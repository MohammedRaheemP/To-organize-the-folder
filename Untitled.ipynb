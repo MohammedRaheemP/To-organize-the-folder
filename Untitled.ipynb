{
 "cells": [
  {
   "cell_type": "code",
   "execution_count": 2,
   "metadata": {},
   "outputs": [],
   "source": [
    "import os\n",
    "import shutil\n",
    "\n",
    "path='/home/dell/Documents/pickle_image/'\n",
    "\n",
    "names=os.listdir(path)\n",
    "\n",
    "folder_name=['Cat','Dog']\n",
    "\n",
    "for x in range(2):\n",
    "   if not os.path.exists(path+folder_name[x]):                    #to avoid overide the folder\n",
    "      os.makedirs(path+folder_name[x])\n",
    "\n",
    "for files in names:\n",
    "   if 'cat.' in files and not os.path.exists(path+'Cat/'+files):\n",
    "      shutil.move(path+files,path+'Cat/'+files)\n",
    "   if 'Dog.' in files and not os.path.exists(path+'Dog/'+files):\n",
    "      shutil.move(path+files,path,'Dog/'+files)\n"
   ]
  },
  {
   "cell_type": "code",
   "execution_count": null,
   "metadata": {},
   "outputs": [],
   "source": []
  }
 ],
 "metadata": {
  "kernelspec": {
   "display_name": "Python 3",
   "language": "python",
   "name": "python3"
  },
  "language_info": {
   "codemirror_mode": {
    "name": "ipython",
    "version": 3
   },
   "file_extension": ".py",
   "mimetype": "text/x-python",
   "name": "python",
   "nbconvert_exporter": "python",
   "pygments_lexer": "ipython3",
   "version": "3.7.4"
  }
 },
 "nbformat": 4,
 "nbformat_minor": 2
}
